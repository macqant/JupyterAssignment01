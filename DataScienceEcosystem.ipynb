{
 "cells": [
  {
   "cell_type": "markdown",
   "id": "53338b40-79ac-4ac4-8cee-dbf51f4bef22",
   "metadata": {},
   "source": [
    "# Data Science Tools and Ecosystem"
   ]
  },
  {
   "cell_type": "markdown",
   "id": "8bccbbd4-32eb-495f-91fd-2cbd87a90e69",
   "metadata": {},
   "source": [
    "In this notebook, Data Science Tools and Ecosystem are summarized."
   ]
  },
  {
   "cell_type": "markdown",
   "id": "113ea1dd-bcc8-4e0b-8b82-e68e9b110a8b",
   "metadata": {},
   "source": [
    "## Author\n",
    "Anthony Macqueen\n",
    "\n",
    "Objectives: \n",
    "\n",
    "- List popular languages used by Data Scientists\n",
    "- List commonly used libraries used by Data Scienbtists\n",
    "- Create a table\n",
    "- Show examples of evaluating arithmetric expressions\n",
    "- Evaluate an arithmetric expression"
   ]
  },
  {
   "cell_type": "markdown",
   "id": "4b720928-0697-46f4-b988-0ba3238390c5",
   "metadata": {},
   "source": [
    "Some of the popular languages that Data Scientists use are:\n",
    "\n",
    "1. Python\n",
    "2. R\n",
    "3. SQL"
   ]
  },
  {
   "cell_type": "markdown",
   "id": "72651268-c939-452b-bf03-ad3a2906d68d",
   "metadata": {},
   "source": [
    "Some of the commonly used libraries used by Data Scientists include:\n",
    "\n",
    "1. Pandas\n",
    "2. NumPy\n",
    "3. Matplotlib"
   ]
  },
  {
   "cell_type": "markdown",
   "id": "1743c956-dcee-4903-8b83-58176e71a658",
   "metadata": {},
   "source": [
    "| Data Science Tools |\n",
    "------\n",
    "| JupyterLite |\n",
    "| Anaconda |\n",
    "| Google Colaboratory |\n",
    "\n"
   ]
  },
  {
   "cell_type": "markdown",
   "id": "499d5bc6-f04c-4bb1-b003-7db784e6d7f7",
   "metadata": {},
   "source": [
    "### Below are a few examples of evaluating arithmetic expressions in Python\n",
    "\n",
    "3*4\n",
    "3+(2+2)\n",
    "3-4\n",
    "3+(4**2)"
   ]
  },
  {
   "cell_type": "code",
   "execution_count": 6,
   "id": "14250733-0e01-441c-abad-69540462b72b",
   "metadata": {},
   "outputs": [
    {
     "data": {
      "text/plain": [
       "17"
      ]
     },
     "execution_count": 6,
     "metadata": {},
     "output_type": "execute_result"
    }
   ],
   "source": [
    "# This a simple arithmetic expression to mutiply then add integers\n",
    "\n",
    "(3*4)+5"
   ]
  },
  {
   "cell_type": "code",
   "execution_count": 11,
   "id": "1b9b4ac4-e5cb-4789-af16-06645ebf168c",
   "metadata": {},
   "outputs": [
    {
     "data": {
      "text/plain": [
       "'3.3333333333333335 hours'"
      ]
     },
     "execution_count": 11,
     "metadata": {},
     "output_type": "execute_result"
    }
   ],
   "source": [
    "# This will convert 200 minutes to hours by diving by 60\n",
    "\n",
    "str(200/60) + \" hours\""
   ]
  }
 ],
 "metadata": {
  "kernelspec": {
   "display_name": "Python 3 (ipykernel)",
   "language": "python",
   "name": "python3"
  },
  "language_info": {
   "codemirror_mode": {
    "name": "ipython",
    "version": 3
   },
   "file_extension": ".py",
   "mimetype": "text/x-python",
   "name": "python",
   "nbconvert_exporter": "python",
   "pygments_lexer": "ipython3",
   "version": "3.11.9"
  }
 },
 "nbformat": 4,
 "nbformat_minor": 5
}
